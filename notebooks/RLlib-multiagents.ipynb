{
 "cells": [
  {
   "cell_type": "code",
   "execution_count": 1,
   "id": "16cbec6c-b9cd-4e2e-8a05-238a6b79efa9",
   "metadata": {},
   "outputs": [],
   "source": [
    "%load_ext autoreload\n",
    "%autoreload 2"
   ]
  },
  {
   "cell_type": "code",
   "execution_count": 2,
   "id": "7199cb53-9f5e-4b56-bbe4-4b5276d8ecc8",
   "metadata": {},
   "outputs": [],
   "source": [
    "import numpy as np\n",
    "from gym import spaces"
   ]
  },
  {
   "cell_type": "code",
   "execution_count": 3,
   "id": "a90692f9-ad32-4406-a5dc-d838e7e67575",
   "metadata": {},
   "outputs": [],
   "source": [
    "import sys\n",
    "sys.path.append('/Users/jaime/Documents/MachineLearning/LuxAI/LuxAI-RLlib/')\n",
    "sys.path.append('/Users/jaime/Documents/MachineLearning/LuxAI/LuxPrivate/')"
   ]
  },
  {
   "cell_type": "code",
   "execution_count": 4,
   "id": "2f639281-2f3a-45db-b137-6bee40a3d27e",
   "metadata": {},
   "outputs": [
    {
     "name": "stdout",
     "output_type": "stream",
     "text": [
      "Loading environment football failed: No module named 'gfootball'\n"
     ]
    }
   ],
   "source": [
    "from multilux.lux_env import LuxEnv\n",
    "from multilux.lux_game import LuxGame"
   ]
  },
  {
   "cell_type": "code",
   "execution_count": 5,
   "id": "7b5ca8b8-1828-433b-a5bb-1984105f0afd",
   "metadata": {},
   "outputs": [],
   "source": [
    "import helpers\n",
    "from my_multilux_interface import MyInterface"
   ]
  },
  {
   "cell_type": "code",
   "execution_count": 7,
   "id": "62d93a23-724e-4b74-a472-1adce4fc5c54",
   "metadata": {},
   "outputs": [
    {
     "name": "stderr",
     "output_type": "stream",
     "text": [
      "/Users/jaime/opt/anaconda3/envs/LuxAI/lib/python3.8/site-packages/ray/_private/services.py:238: UserWarning: Not all Ray Dashboard dependencies were found. To use the dashboard please install Ray using `pip install ray[default]`. To disable this message, set RAY_DISABLE_IMPORT_WARNING env var to '1'.\n",
      "  warnings.warn(warning_message)\n"
     ]
    },
    {
     "ename": "RayActorError",
     "evalue": "The actor died because of an error raised in its creation task, \u001b[36mray::RolloutWorker.__init__()\u001b[39m (pid=35751, ip=192.168.20.8)\nray._private.memory_monitor.RayOutOfMemoryError: More than 95% of the memory on node Jaime-MBP is used (15.32 / 16.0 GB). The top 10 memory consumers are:\n\nPID\tMEM\tCOMMAND\n11608\t0.99GiB\t/Applications/Brave Browser.app/Contents/Frameworks/Brave Browser Framework.framework/Versions/92.1.\n35752\t0.93GiB\tray::IDLE\n35751\t0.93GiB\tray::IDLE\n35735\t0.85GiB\t/Users/jaime/opt/anaconda3/envs/LuxAI/bin/python -m ipykernel_launcher -f /Users/jaime/Library/Jupyt\n25012\t0.67GiB\t/Applications/PyCharm CE.app/Contents/MacOS/pycharm\n583\t0.3GiB\t/Applications/Brave Browser.app/Contents/MacOS/Brave Browser\n35744\t0.24GiB\t/Users/jaime/opt/anaconda3/envs/LuxAI/bin/python -u /Users/jaime/opt/anaconda3/envs/LuxAI/lib/python\n35746\t0.2GiB\t/Users/jaime/opt/anaconda3/envs/LuxAI/bin/python -u /Users/jaime/opt/anaconda3/envs/LuxAI/lib/python\n1319\t0.19GiB\t/Applications/Toggl Track.app/Contents/MacOS/Toggl Track\n1287\t0.18GiB\t/Applications/Zotero.app/Contents/MacOS/zotero\n\nIn addition, up to 0.0 GiB of shared memory is currently being used by the Ray object store.\n---\n--- Tip: Use the `ray memory` command to list active objects in the cluster.\n--- To disable OOM exceptions, set RAY_DISABLE_MEMORY_MONITOR=1.\n---",
     "output_type": "error",
     "traceback": [
      "\u001b[0;31m---------------------------------------------------------------------------\u001b[0m",
      "\u001b[0;31mRayActorError\u001b[0m                             Traceback (most recent call last)",
      "\u001b[0;32m/var/folders/7_/c1cv6s6x0bx0t53z73bsnxpc0000gn/T/ipykernel_35735/3189244997.py\u001b[0m in \u001b[0;36m<module>\u001b[0;34m\u001b[0m\n\u001b[1;32m     47\u001b[0m }\n\u001b[1;32m     48\u001b[0m \u001b[0;34m\u001b[0m\u001b[0m\n\u001b[0;32m---> 49\u001b[0;31m \u001b[0mtrainer\u001b[0m \u001b[0;34m=\u001b[0m \u001b[0mppo\u001b[0m\u001b[0;34m.\u001b[0m\u001b[0mPPOTrainer\u001b[0m\u001b[0;34m(\u001b[0m\u001b[0menv\u001b[0m\u001b[0;34m=\u001b[0m\u001b[0mLuxEnv\u001b[0m\u001b[0;34m,\u001b[0m \u001b[0mconfig\u001b[0m\u001b[0;34m=\u001b[0m\u001b[0mconfig\u001b[0m\u001b[0;34m)\u001b[0m\u001b[0;34m\u001b[0m\u001b[0;34m\u001b[0m\u001b[0m\n\u001b[0m\u001b[1;32m     50\u001b[0m \u001b[0;34m\u001b[0m\u001b[0m\n\u001b[1;32m     51\u001b[0m \u001b[0;31m# (4) Train away -------------------------------------------------------------\u001b[0m\u001b[0;34m\u001b[0m\u001b[0;34m\u001b[0m\u001b[0;34m\u001b[0m\u001b[0m\n",
      "\u001b[0;32m~/opt/anaconda3/envs/LuxAI/lib/python3.8/site-packages/ray/rllib/agents/trainer_template.py\u001b[0m in \u001b[0;36m__init__\u001b[0;34m(self, config, env, logger_creator)\u001b[0m\n\u001b[1;32m    134\u001b[0m \u001b[0;34m\u001b[0m\u001b[0m\n\u001b[1;32m    135\u001b[0m         \u001b[0;32mdef\u001b[0m \u001b[0m__init__\u001b[0m\u001b[0;34m(\u001b[0m\u001b[0mself\u001b[0m\u001b[0;34m,\u001b[0m \u001b[0mconfig\u001b[0m\u001b[0;34m=\u001b[0m\u001b[0;32mNone\u001b[0m\u001b[0;34m,\u001b[0m \u001b[0menv\u001b[0m\u001b[0;34m=\u001b[0m\u001b[0;32mNone\u001b[0m\u001b[0;34m,\u001b[0m \u001b[0mlogger_creator\u001b[0m\u001b[0;34m=\u001b[0m\u001b[0;32mNone\u001b[0m\u001b[0;34m)\u001b[0m\u001b[0;34m:\u001b[0m\u001b[0;34m\u001b[0m\u001b[0;34m\u001b[0m\u001b[0m\n\u001b[0;32m--> 136\u001b[0;31m             \u001b[0mTrainer\u001b[0m\u001b[0;34m.\u001b[0m\u001b[0m__init__\u001b[0m\u001b[0;34m(\u001b[0m\u001b[0mself\u001b[0m\u001b[0;34m,\u001b[0m \u001b[0mconfig\u001b[0m\u001b[0;34m,\u001b[0m \u001b[0menv\u001b[0m\u001b[0;34m,\u001b[0m \u001b[0mlogger_creator\u001b[0m\u001b[0;34m)\u001b[0m\u001b[0;34m\u001b[0m\u001b[0;34m\u001b[0m\u001b[0m\n\u001b[0m\u001b[1;32m    137\u001b[0m \u001b[0;34m\u001b[0m\u001b[0m\n\u001b[1;32m    138\u001b[0m         \u001b[0;34m@\u001b[0m\u001b[0moverride\u001b[0m\u001b[0;34m(\u001b[0m\u001b[0mbase\u001b[0m\u001b[0;34m)\u001b[0m\u001b[0;34m\u001b[0m\u001b[0;34m\u001b[0m\u001b[0m\n",
      "\u001b[0;32m~/opt/anaconda3/envs/LuxAI/lib/python3.8/site-packages/ray/rllib/agents/trainer.py\u001b[0m in \u001b[0;36m__init__\u001b[0;34m(self, config, env, logger_creator)\u001b[0m\n\u001b[1;32m    590\u001b[0m             \u001b[0mlogger_creator\u001b[0m \u001b[0;34m=\u001b[0m \u001b[0mdefault_logger_creator\u001b[0m\u001b[0;34m\u001b[0m\u001b[0;34m\u001b[0m\u001b[0m\n\u001b[1;32m    591\u001b[0m \u001b[0;34m\u001b[0m\u001b[0m\n\u001b[0;32m--> 592\u001b[0;31m         \u001b[0msuper\u001b[0m\u001b[0;34m(\u001b[0m\u001b[0;34m)\u001b[0m\u001b[0;34m.\u001b[0m\u001b[0m__init__\u001b[0m\u001b[0;34m(\u001b[0m\u001b[0mconfig\u001b[0m\u001b[0;34m,\u001b[0m \u001b[0mlogger_creator\u001b[0m\u001b[0;34m)\u001b[0m\u001b[0;34m\u001b[0m\u001b[0;34m\u001b[0m\u001b[0m\n\u001b[0m\u001b[1;32m    593\u001b[0m \u001b[0;34m\u001b[0m\u001b[0m\n\u001b[1;32m    594\u001b[0m     \u001b[0;34m@\u001b[0m\u001b[0mclassmethod\u001b[0m\u001b[0;34m\u001b[0m\u001b[0;34m\u001b[0m\u001b[0m\n",
      "\u001b[0;32m~/opt/anaconda3/envs/LuxAI/lib/python3.8/site-packages/ray/tune/trainable.py\u001b[0m in \u001b[0;36m__init__\u001b[0;34m(self, config, logger_creator)\u001b[0m\n\u001b[1;32m    101\u001b[0m \u001b[0;34m\u001b[0m\u001b[0m\n\u001b[1;32m    102\u001b[0m         \u001b[0mstart_time\u001b[0m \u001b[0;34m=\u001b[0m \u001b[0mtime\u001b[0m\u001b[0;34m.\u001b[0m\u001b[0mtime\u001b[0m\u001b[0;34m(\u001b[0m\u001b[0;34m)\u001b[0m\u001b[0;34m\u001b[0m\u001b[0;34m\u001b[0m\u001b[0m\n\u001b[0;32m--> 103\u001b[0;31m         \u001b[0mself\u001b[0m\u001b[0;34m.\u001b[0m\u001b[0msetup\u001b[0m\u001b[0;34m(\u001b[0m\u001b[0mcopy\u001b[0m\u001b[0;34m.\u001b[0m\u001b[0mdeepcopy\u001b[0m\u001b[0;34m(\u001b[0m\u001b[0mself\u001b[0m\u001b[0;34m.\u001b[0m\u001b[0mconfig\u001b[0m\u001b[0;34m)\u001b[0m\u001b[0;34m)\u001b[0m\u001b[0;34m\u001b[0m\u001b[0;34m\u001b[0m\u001b[0m\n\u001b[0m\u001b[1;32m    104\u001b[0m         \u001b[0msetup_time\u001b[0m \u001b[0;34m=\u001b[0m \u001b[0mtime\u001b[0m\u001b[0;34m.\u001b[0m\u001b[0mtime\u001b[0m\u001b[0;34m(\u001b[0m\u001b[0;34m)\u001b[0m \u001b[0;34m-\u001b[0m \u001b[0mstart_time\u001b[0m\u001b[0;34m\u001b[0m\u001b[0;34m\u001b[0m\u001b[0m\n\u001b[1;32m    105\u001b[0m         \u001b[0;32mif\u001b[0m \u001b[0msetup_time\u001b[0m \u001b[0;34m>\u001b[0m \u001b[0mSETUP_TIME_THRESHOLD\u001b[0m\u001b[0;34m:\u001b[0m\u001b[0;34m\u001b[0m\u001b[0;34m\u001b[0m\u001b[0m\n",
      "\u001b[0;32m~/opt/anaconda3/envs/LuxAI/lib/python3.8/site-packages/ray/rllib/agents/trainer_template.py\u001b[0m in \u001b[0;36msetup\u001b[0;34m(self, config)\u001b[0m\n\u001b[1;32m    144\u001b[0m                 \u001b[0mself\u001b[0m\u001b[0;34m.\u001b[0m\u001b[0m_override_all_subkeys_if_type_changes\u001b[0m \u001b[0;34m+=\u001b[0m\u001b[0;31m \u001b[0m\u001b[0;31m\\\u001b[0m\u001b[0;34m\u001b[0m\u001b[0;34m\u001b[0m\u001b[0m\n\u001b[1;32m    145\u001b[0m                     \u001b[0moverride_all_subkeys_if_type_changes\u001b[0m\u001b[0;34m\u001b[0m\u001b[0;34m\u001b[0m\u001b[0m\n\u001b[0;32m--> 146\u001b[0;31m             \u001b[0msuper\u001b[0m\u001b[0;34m(\u001b[0m\u001b[0;34m)\u001b[0m\u001b[0;34m.\u001b[0m\u001b[0msetup\u001b[0m\u001b[0;34m(\u001b[0m\u001b[0mconfig\u001b[0m\u001b[0;34m)\u001b[0m\u001b[0;34m\u001b[0m\u001b[0;34m\u001b[0m\u001b[0m\n\u001b[0m\u001b[1;32m    147\u001b[0m \u001b[0;34m\u001b[0m\u001b[0m\n\u001b[1;32m    148\u001b[0m         def _init(self, config: TrainerConfigDict,\n",
      "\u001b[0;32m~/opt/anaconda3/envs/LuxAI/lib/python3.8/site-packages/ray/rllib/agents/trainer.py\u001b[0m in \u001b[0;36msetup\u001b[0;34m(self, config)\u001b[0m\n\u001b[1;32m    737\u001b[0m \u001b[0;34m\u001b[0m\u001b[0m\n\u001b[1;32m    738\u001b[0m         \u001b[0;32mwith\u001b[0m \u001b[0mget_scope\u001b[0m\u001b[0;34m(\u001b[0m\u001b[0;34m)\u001b[0m\u001b[0;34m:\u001b[0m\u001b[0;34m\u001b[0m\u001b[0;34m\u001b[0m\u001b[0m\n\u001b[0;32m--> 739\u001b[0;31m             \u001b[0mself\u001b[0m\u001b[0;34m.\u001b[0m\u001b[0m_init\u001b[0m\u001b[0;34m(\u001b[0m\u001b[0mself\u001b[0m\u001b[0;34m.\u001b[0m\u001b[0mconfig\u001b[0m\u001b[0;34m,\u001b[0m \u001b[0mself\u001b[0m\u001b[0;34m.\u001b[0m\u001b[0menv_creator\u001b[0m\u001b[0;34m)\u001b[0m\u001b[0;34m\u001b[0m\u001b[0;34m\u001b[0m\u001b[0m\n\u001b[0m\u001b[1;32m    740\u001b[0m \u001b[0;34m\u001b[0m\u001b[0m\n\u001b[1;32m    741\u001b[0m             \u001b[0;31m# Evaluation setup.\u001b[0m\u001b[0;34m\u001b[0m\u001b[0;34m\u001b[0m\u001b[0;34m\u001b[0m\u001b[0m\n",
      "\u001b[0;32m~/opt/anaconda3/envs/LuxAI/lib/python3.8/site-packages/ray/rllib/agents/trainer_template.py\u001b[0m in \u001b[0;36m_init\u001b[0;34m(self, config, env_creator)\u001b[0m\n\u001b[1;32m    168\u001b[0m \u001b[0;34m\u001b[0m\u001b[0m\n\u001b[1;32m    169\u001b[0m             \u001b[0;31m# Creating all workers (excluding evaluation workers).\u001b[0m\u001b[0;34m\u001b[0m\u001b[0;34m\u001b[0m\u001b[0;34m\u001b[0m\u001b[0m\n\u001b[0;32m--> 170\u001b[0;31m             self.workers = self._make_workers(\n\u001b[0m\u001b[1;32m    171\u001b[0m                 \u001b[0menv_creator\u001b[0m\u001b[0;34m=\u001b[0m\u001b[0menv_creator\u001b[0m\u001b[0;34m,\u001b[0m\u001b[0;34m\u001b[0m\u001b[0;34m\u001b[0m\u001b[0m\n\u001b[1;32m    172\u001b[0m                 \u001b[0mvalidate_env\u001b[0m\u001b[0;34m=\u001b[0m\u001b[0mvalidate_env\u001b[0m\u001b[0;34m,\u001b[0m\u001b[0;34m\u001b[0m\u001b[0;34m\u001b[0m\u001b[0m\n",
      "\u001b[0;32m~/opt/anaconda3/envs/LuxAI/lib/python3.8/site-packages/ray/rllib/agents/trainer.py\u001b[0m in \u001b[0;36m_make_workers\u001b[0;34m(self, env_creator, validate_env, policy_class, config, num_workers)\u001b[0m\n\u001b[1;32m    819\u001b[0m             \u001b[0mWorkerSet\u001b[0m\u001b[0;34m:\u001b[0m \u001b[0mThe\u001b[0m \u001b[0mcreated\u001b[0m \u001b[0mWorkerSet\u001b[0m\u001b[0;34m.\u001b[0m\u001b[0;34m\u001b[0m\u001b[0;34m\u001b[0m\u001b[0m\n\u001b[1;32m    820\u001b[0m         \"\"\"\n\u001b[0;32m--> 821\u001b[0;31m         return WorkerSet(\n\u001b[0m\u001b[1;32m    822\u001b[0m             \u001b[0menv_creator\u001b[0m\u001b[0;34m=\u001b[0m\u001b[0menv_creator\u001b[0m\u001b[0;34m,\u001b[0m\u001b[0;34m\u001b[0m\u001b[0;34m\u001b[0m\u001b[0m\n\u001b[1;32m    823\u001b[0m             \u001b[0mvalidate_env\u001b[0m\u001b[0;34m=\u001b[0m\u001b[0mvalidate_env\u001b[0m\u001b[0;34m,\u001b[0m\u001b[0;34m\u001b[0m\u001b[0;34m\u001b[0m\u001b[0m\n",
      "\u001b[0;32m~/opt/anaconda3/envs/LuxAI/lib/python3.8/site-packages/ray/rllib/evaluation/worker_set.py\u001b[0m in \u001b[0;36m__init__\u001b[0;34m(self, env_creator, validate_env, policy_class, trainer_config, num_workers, logdir, _setup)\u001b[0m\n\u001b[1;32m     81\u001b[0m             \u001b[0;31m# to not be forced to create an Env on the local worker.\u001b[0m\u001b[0;34m\u001b[0m\u001b[0;34m\u001b[0m\u001b[0;34m\u001b[0m\u001b[0m\n\u001b[1;32m     82\u001b[0m             \u001b[0;32mif\u001b[0m \u001b[0mself\u001b[0m\u001b[0;34m.\u001b[0m\u001b[0m_remote_workers\u001b[0m\u001b[0;34m:\u001b[0m\u001b[0;34m\u001b[0m\u001b[0;34m\u001b[0m\u001b[0m\n\u001b[0;32m---> 83\u001b[0;31m                 remote_spaces = ray.get(self.remote_workers(\n\u001b[0m\u001b[1;32m     84\u001b[0m                 \u001b[0;34m)\u001b[0m\u001b[0;34m[\u001b[0m\u001b[0;36m0\u001b[0m\u001b[0;34m]\u001b[0m\u001b[0;34m.\u001b[0m\u001b[0mforeach_policy\u001b[0m\u001b[0;34m.\u001b[0m\u001b[0mremote\u001b[0m\u001b[0;34m(\u001b[0m\u001b[0;34m\u001b[0m\u001b[0;34m\u001b[0m\u001b[0m\n\u001b[1;32m     85\u001b[0m                     lambda p, pid: (pid, p.observation_space, p.action_space)))\n",
      "\u001b[0;32m~/opt/anaconda3/envs/LuxAI/lib/python3.8/site-packages/ray/_private/client_mode_hook.py\u001b[0m in \u001b[0;36mwrapper\u001b[0;34m(*args, **kwargs)\u001b[0m\n\u001b[1;32m     80\u001b[0m         \u001b[0;32mif\u001b[0m \u001b[0mclient_mode_should_convert\u001b[0m\u001b[0;34m(\u001b[0m\u001b[0;34m)\u001b[0m\u001b[0;34m:\u001b[0m\u001b[0;34m\u001b[0m\u001b[0;34m\u001b[0m\u001b[0m\n\u001b[1;32m     81\u001b[0m             \u001b[0;32mreturn\u001b[0m \u001b[0mgetattr\u001b[0m\u001b[0;34m(\u001b[0m\u001b[0mray\u001b[0m\u001b[0;34m,\u001b[0m \u001b[0mfunc\u001b[0m\u001b[0;34m.\u001b[0m\u001b[0m__name__\u001b[0m\u001b[0;34m)\u001b[0m\u001b[0;34m(\u001b[0m\u001b[0;34m*\u001b[0m\u001b[0margs\u001b[0m\u001b[0;34m,\u001b[0m \u001b[0;34m**\u001b[0m\u001b[0mkwargs\u001b[0m\u001b[0;34m)\u001b[0m\u001b[0;34m\u001b[0m\u001b[0;34m\u001b[0m\u001b[0m\n\u001b[0;32m---> 82\u001b[0;31m         \u001b[0;32mreturn\u001b[0m \u001b[0mfunc\u001b[0m\u001b[0;34m(\u001b[0m\u001b[0;34m*\u001b[0m\u001b[0margs\u001b[0m\u001b[0;34m,\u001b[0m \u001b[0;34m**\u001b[0m\u001b[0mkwargs\u001b[0m\u001b[0;34m)\u001b[0m\u001b[0;34m\u001b[0m\u001b[0;34m\u001b[0m\u001b[0m\n\u001b[0m\u001b[1;32m     83\u001b[0m \u001b[0;34m\u001b[0m\u001b[0m\n\u001b[1;32m     84\u001b[0m     \u001b[0;32mreturn\u001b[0m \u001b[0mwrapper\u001b[0m\u001b[0;34m\u001b[0m\u001b[0;34m\u001b[0m\u001b[0m\n",
      "\u001b[0;32m~/opt/anaconda3/envs/LuxAI/lib/python3.8/site-packages/ray/worker.py\u001b[0m in \u001b[0;36mget\u001b[0;34m(object_refs, timeout)\u001b[0m\n\u001b[1;32m   1621\u001b[0m                     \u001b[0;32mraise\u001b[0m \u001b[0mvalue\u001b[0m\u001b[0;34m.\u001b[0m\u001b[0mas_instanceof_cause\u001b[0m\u001b[0;34m(\u001b[0m\u001b[0;34m)\u001b[0m\u001b[0;34m\u001b[0m\u001b[0;34m\u001b[0m\u001b[0m\n\u001b[1;32m   1622\u001b[0m                 \u001b[0;32melse\u001b[0m\u001b[0;34m:\u001b[0m\u001b[0;34m\u001b[0m\u001b[0;34m\u001b[0m\u001b[0m\n\u001b[0;32m-> 1623\u001b[0;31m                     \u001b[0;32mraise\u001b[0m \u001b[0mvalue\u001b[0m\u001b[0;34m\u001b[0m\u001b[0;34m\u001b[0m\u001b[0m\n\u001b[0m\u001b[1;32m   1624\u001b[0m \u001b[0;34m\u001b[0m\u001b[0m\n\u001b[1;32m   1625\u001b[0m         \u001b[0;32mif\u001b[0m \u001b[0mis_individual_id\u001b[0m\u001b[0;34m:\u001b[0m\u001b[0;34m\u001b[0m\u001b[0;34m\u001b[0m\u001b[0m\n",
      "\u001b[0;31mRayActorError\u001b[0m: The actor died because of an error raised in its creation task, \u001b[36mray::RolloutWorker.__init__()\u001b[39m (pid=35751, ip=192.168.20.8)\nray._private.memory_monitor.RayOutOfMemoryError: More than 95% of the memory on node Jaime-MBP is used (15.32 / 16.0 GB). The top 10 memory consumers are:\n\nPID\tMEM\tCOMMAND\n11608\t0.99GiB\t/Applications/Brave Browser.app/Contents/Frameworks/Brave Browser Framework.framework/Versions/92.1.\n35752\t0.93GiB\tray::IDLE\n35751\t0.93GiB\tray::IDLE\n35735\t0.85GiB\t/Users/jaime/opt/anaconda3/envs/LuxAI/bin/python -m ipykernel_launcher -f /Users/jaime/Library/Jupyt\n25012\t0.67GiB\t/Applications/PyCharm CE.app/Contents/MacOS/pycharm\n583\t0.3GiB\t/Applications/Brave Browser.app/Contents/MacOS/Brave Browser\n35744\t0.24GiB\t/Users/jaime/opt/anaconda3/envs/LuxAI/bin/python -u /Users/jaime/opt/anaconda3/envs/LuxAI/lib/python\n35746\t0.2GiB\t/Users/jaime/opt/anaconda3/envs/LuxAI/bin/python -u /Users/jaime/opt/anaconda3/envs/LuxAI/lib/python\n1319\t0.19GiB\t/Applications/Toggl Track.app/Contents/MacOS/Toggl Track\n1287\t0.18GiB\t/Applications/Zotero.app/Contents/MacOS/zotero\n\nIn addition, up to 0.0 GiB of shared memory is currently being used by the Ray object store.\n---\n--- Tip: Use the `ray memory` command to list active objects in the cluster.\n--- To disable OOM exceptions, set RAY_DISABLE_MEMORY_MONITOR=1.\n---"
     ]
    },
    {
     "name": "stderr",
     "output_type": "stream",
     "text": [
      "\u001b[2m\u001b[36m(pid=35752)\u001b[0m 2021-09-15 13:31:48,712\tERROR worker.py:428 -- Exception raised in creation task: The actor died because of an error raised in its creation task, \u001b[36mray::RolloutWorker.__init__()\u001b[39m (pid=35752, ip=192.168.20.8)\n",
      "\u001b[2m\u001b[36m(pid=35752)\u001b[0m ray._private.memory_monitor.RayOutOfMemoryError: More than 95% of the memory on node Jaime-MBP is used (15.32 / 16.0 GB). The top 10 memory consumers are:\n",
      "\u001b[2m\u001b[36m(pid=35752)\u001b[0m \n",
      "\u001b[2m\u001b[36m(pid=35752)\u001b[0m PID\tMEM\tCOMMAND\n",
      "\u001b[2m\u001b[36m(pid=35752)\u001b[0m 11608\t0.99GiB\t/Applications/Brave Browser.app/Contents/Frameworks/Brave Browser Framework.framework/Versions/92.1.\n",
      "\u001b[2m\u001b[36m(pid=35752)\u001b[0m 35752\t0.93GiB\tray::IDLE\n",
      "\u001b[2m\u001b[36m(pid=35752)\u001b[0m 35751\t0.93GiB\tray::IDLE\n",
      "\u001b[2m\u001b[36m(pid=35752)\u001b[0m 35735\t0.85GiB\t/Users/jaime/opt/anaconda3/envs/LuxAI/bin/python -m ipykernel_launcher -f /Users/jaime/Library/Jupyt\n",
      "\u001b[2m\u001b[36m(pid=35752)\u001b[0m 25012\t0.67GiB\t/Applications/PyCharm CE.app/Contents/MacOS/pycharm\n",
      "\u001b[2m\u001b[36m(pid=35752)\u001b[0m 583\t0.3GiB\t/Applications/Brave Browser.app/Contents/MacOS/Brave Browser\n",
      "\u001b[2m\u001b[36m(pid=35752)\u001b[0m 35744\t0.24GiB\t/Users/jaime/opt/anaconda3/envs/LuxAI/bin/python -u /Users/jaime/opt/anaconda3/envs/LuxAI/lib/python\n",
      "\u001b[2m\u001b[36m(pid=35752)\u001b[0m 35746\t0.2GiB\t/Users/jaime/opt/anaconda3/envs/LuxAI/bin/python -u /Users/jaime/opt/anaconda3/envs/LuxAI/lib/python\n",
      "\u001b[2m\u001b[36m(pid=35752)\u001b[0m 1319\t0.19GiB\t/Applications/Toggl Track.app/Contents/MacOS/Toggl Track\n",
      "\u001b[2m\u001b[36m(pid=35752)\u001b[0m 1287\t0.18GiB\t/Applications/Zotero.app/Contents/MacOS/zotero\n",
      "\u001b[2m\u001b[36m(pid=35752)\u001b[0m \n",
      "\u001b[2m\u001b[36m(pid=35752)\u001b[0m In addition, up to 0.0 GiB of shared memory is currently being used by the Ray object store.\n",
      "\u001b[2m\u001b[36m(pid=35752)\u001b[0m ---\n",
      "\u001b[2m\u001b[36m(pid=35752)\u001b[0m --- Tip: Use the `ray memory` command to list active objects in the cluster.\n",
      "\u001b[2m\u001b[36m(pid=35752)\u001b[0m --- To disable OOM exceptions, set RAY_DISABLE_MEMORY_MONITOR=1.\n",
      "\u001b[2m\u001b[36m(pid=35752)\u001b[0m ---\n",
      "\u001b[2m\u001b[36m(pid=35751)\u001b[0m 2021-09-15 13:31:48,712\tERROR worker.py:428 -- Exception raised in creation task: The actor died because of an error raised in its creation task, \u001b[36mray::RolloutWorker.__init__()\u001b[39m (pid=35751, ip=192.168.20.8)\n",
      "\u001b[2m\u001b[36m(pid=35751)\u001b[0m ray._private.memory_monitor.RayOutOfMemoryError: More than 95% of the memory on node Jaime-MBP is used (15.32 / 16.0 GB). The top 10 memory consumers are:\n",
      "\u001b[2m\u001b[36m(pid=35751)\u001b[0m \n",
      "\u001b[2m\u001b[36m(pid=35751)\u001b[0m PID\tMEM\tCOMMAND\n",
      "\u001b[2m\u001b[36m(pid=35751)\u001b[0m 11608\t0.99GiB\t/Applications/Brave Browser.app/Contents/Frameworks/Brave Browser Framework.framework/Versions/92.1.\n",
      "\u001b[2m\u001b[36m(pid=35751)\u001b[0m 35752\t0.93GiB\tray::IDLE\n",
      "\u001b[2m\u001b[36m(pid=35751)\u001b[0m 35751\t0.93GiB\tray::IDLE\n",
      "\u001b[2m\u001b[36m(pid=35751)\u001b[0m 35735\t0.85GiB\t/Users/jaime/opt/anaconda3/envs/LuxAI/bin/python -m ipykernel_launcher -f /Users/jaime/Library/Jupyt\n",
      "\u001b[2m\u001b[36m(pid=35751)\u001b[0m 25012\t0.67GiB\t/Applications/PyCharm CE.app/Contents/MacOS/pycharm\n",
      "\u001b[2m\u001b[36m(pid=35751)\u001b[0m 583\t0.3GiB\t/Applications/Brave Browser.app/Contents/MacOS/Brave Browser\n",
      "\u001b[2m\u001b[36m(pid=35751)\u001b[0m 35744\t0.24GiB\t/Users/jaime/opt/anaconda3/envs/LuxAI/bin/python -u /Users/jaime/opt/anaconda3/envs/LuxAI/lib/python\n",
      "\u001b[2m\u001b[36m(pid=35751)\u001b[0m 35746\t0.2GiB\t/Users/jaime/opt/anaconda3/envs/LuxAI/bin/python -u /Users/jaime/opt/anaconda3/envs/LuxAI/lib/python\n",
      "\u001b[2m\u001b[36m(pid=35751)\u001b[0m 1319\t0.19GiB\t/Applications/Toggl Track.app/Contents/MacOS/Toggl Track\n",
      "\u001b[2m\u001b[36m(pid=35751)\u001b[0m 1287\t0.18GiB\t/Applications/Zotero.app/Contents/MacOS/zotero\n",
      "\u001b[2m\u001b[36m(pid=35751)\u001b[0m \n",
      "\u001b[2m\u001b[36m(pid=35751)\u001b[0m In addition, up to 0.0 GiB of shared memory is currently being used by the Ray object store.\n",
      "\u001b[2m\u001b[36m(pid=35751)\u001b[0m ---\n",
      "\u001b[2m\u001b[36m(pid=35751)\u001b[0m --- Tip: Use the `ray memory` command to list active objects in the cluster.\n",
      "\u001b[2m\u001b[36m(pid=35751)\u001b[0m --- To disable OOM exceptions, set RAY_DISABLE_MEMORY_MONITOR=1.\n",
      "\u001b[2m\u001b[36m(pid=35751)\u001b[0m ---\n"
     ]
    }
   ],
   "source": [
    "# (2) Register environment --------------------------------------------------\n",
    "from ray.tune.registry import register_env\n",
    "from multilux.lux_env import LuxEnv\n",
    "\n",
    "def env_creator(env_config):\n",
    "    \n",
    "    configuration = env_config.get(configuration, {})\n",
    "    debug = env_config.get(debug, False)\n",
    "    interface = env_config.get(interface, MyInterface)\n",
    "    agents = env_config.get(agents, (None, \"simple_agent\"))\n",
    "    \n",
    "    return LuxEnv(configuration, debug,\n",
    "                  interface=interface,\n",
    "                  agents=agents,\n",
    "                  train=True)\n",
    "\n",
    "register_env(\"multilux\", env_creator)\n",
    "\n",
    "# (3) Instantiate agent ------------------------------------------------------\n",
    "import random\n",
    "from ray.rllib.agents import ppo\n",
    "\n",
    "config = {\n",
    "    \"env_config\": {},\n",
    "    \"multiagent\": {\n",
    "        \"policies\": {\n",
    "            # the first tuple value is None -> uses default policy\n",
    "            \"unit-1\": (None, \n",
    "                       MyInterface.obs_spaces[\"unit\"], \n",
    "                       MyInterface.act_spaces[\"unit\"], \n",
    "                       {\"gamma\": 0.85}),\n",
    "            \"unit-2\": (None, \n",
    "                       MyInterface.obs_spaces[\"unit\"], \n",
    "                       MyInterface.act_spaces[\"unit\"], \n",
    "                       {\"gamma\": 0.99}),\n",
    "            \"citytile\": (None, \n",
    "                         MyInterface.obs_spaces[\"citytile\"], \n",
    "                         MyInterface.act_spaces[\"citytile\"], \n",
    "                         {}),\n",
    "        },\n",
    "        \"policy_mapping_fn\":\n",
    "            lambda agent_id:\n",
    "                \"citytile\"  # Citytiles always have the same policy\n",
    "                if agent_id.startswith(\"ct_\")\n",
    "                else random.choice([\"unit-1\", \"unit-2\"])  # Randomly choose from unit policies\n",
    "    },\n",
    "}\n",
    "\n",
    "trainer = ppo.PPOTrainer(env=LuxEnv, config=config)\n",
    "\n",
    "# (4) Train away -------------------------------------------------------------\n",
    "while True:\n",
    "    print(trainer.train())"
   ]
  },
  {
   "cell_type": "code",
   "execution_count": null,
   "id": "f119d836-cd1e-4da4-93f7-80138bcf11ee",
   "metadata": {},
   "outputs": [],
   "source": []
  },
  {
   "cell_type": "code",
   "execution_count": null,
   "id": "2bcee0dc-86eb-414b-b32b-651938d46645",
   "metadata": {},
   "outputs": [],
   "source": []
  },
  {
   "cell_type": "code",
   "execution_count": null,
   "id": "430e85cf-65ac-452c-9435-ab1ec0060ac7",
   "metadata": {},
   "outputs": [],
   "source": []
  },
  {
   "cell_type": "markdown",
   "id": "383be4f4-9d28-45c8-b525-7709e64c829d",
   "metadata": {},
   "source": [
    "## DEBUGGING"
   ]
  },
  {
   "cell_type": "code",
   "execution_count": 14,
   "id": "0fc8a418-caa4-44f9-ad6c-4b73b2595438",
   "metadata": {},
   "outputs": [],
   "source": [
    "from kaggle_environments import make\n",
    "\n",
    "# Make environment\n",
    "env = make(\"lux_ai_2021\", configuration={\n",
    "    \"seed\": 562124210, \n",
    "#     \"loglevel\": 2, \n",
    "#     \"annotations\": True\n",
    "}, debug=True)\n",
    "\n",
    "# Training agent in first position (player 1) against \"simple_agent\"\n",
    "trainer = env.train([None, \"simple_agent\"])\n",
    "\n",
    "observation = trainer.reset()\n",
    "\n",
    "\n",
    "game = LuxGame(observation)\n",
    "game_state = game.update(observation)\n",
    "\n",
    "# game_state.players[0].cities['c_1'].citytiles[0].pos\n",
    "# game_state.players[0].cities['c_1'].citytiles[0].__class__.__name__.lower()\n",
    "# game_state.players[0].units[0].id\n",
    "# observation"
   ]
  },
  {
   "cell_type": "code",
   "execution_count": null,
   "id": "edad85d7-6880-461a-a6ee-9ddd9f056b13",
   "metadata": {},
   "outputs": [],
   "source": []
  },
  {
   "cell_type": "code",
   "execution_count": 24,
   "id": "b3e7067a-b8de-4087-b26d-900659f0e7ca",
   "metadata": {},
   "outputs": [],
   "source": [
    "my_actors = game.get_team_actors(teams=(game.player_id,), flat=True)\n",
    "obs = helpers.get_observation_as_tensor(game_state)"
   ]
  },
  {
   "cell_type": "code",
   "execution_count": null,
   "id": "87d54398-48a8-4c96-98c7-57f0a192fb3e",
   "metadata": {},
   "outputs": [],
   "source": []
  },
  {
   "cell_type": "code",
   "execution_count": null,
   "id": "c7bdfd62-01f2-4a10-b371-b5c4dbb6a22b",
   "metadata": {},
   "outputs": [],
   "source": []
  },
  {
   "cell_type": "code",
   "execution_count": null,
   "id": "35ead786-dd85-4ba9-b3d7-944f36a29d2e",
   "metadata": {},
   "outputs": [],
   "source": []
  }
 ],
 "metadata": {
  "kernelspec": {
   "display_name": "Python 3 (ipykernel)",
   "language": "python",
   "name": "python3"
  },
  "language_info": {
   "codemirror_mode": {
    "name": "ipython",
    "version": 3
   },
   "file_extension": ".py",
   "mimetype": "text/x-python",
   "name": "python",
   "nbconvert_exporter": "python",
   "pygments_lexer": "ipython3",
   "version": "3.8.11"
  }
 },
 "nbformat": 4,
 "nbformat_minor": 5
}
